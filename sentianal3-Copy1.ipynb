{
 "cells": [
  {
   "cell_type": "code",
   "execution_count": 1,
   "metadata": {
    "collapsed": true
   },
   "outputs": [],
   "source": [
    "import tweepy\n",
    "from textblob import TextBlob\n",
    "import pandas as pd\n",
    "import numpy as np\n",
    "from sklearn.feature_extraction.text import CountVectorizer\n",
    "from sklearn.datasets import fetch_20newsgroups"
   ]
  },
  {
   "cell_type": "code",
   "execution_count": 2,
   "metadata": {
    "collapsed": true
   },
   "outputs": [],
   "source": [
    "consumer_key = 'Sri1ChSCMuYs16x48Z7YbgDJX'\n",
    "consumer_secret = 'f4gCuO4VqhtFITDUVvgKW7HDribREgpGBUl4JgRWsaH3XjSfuP'\n",
    "access_token = '1128352344595283968-7gmltStBsYtpHV19Cgs3dftZLf9w1s'\n",
    "access_token_secret = 'zZNO9vkT1h6yrOKQ9Ur2oZwk9y8T2sQrPhDKsqDyz3zuM'"
   ]
  },
  {
   "cell_type": "code",
   "execution_count": 3,
   "metadata": {
    "collapsed": true
   },
   "outputs": [],
   "source": [
    "auth=tweepy.OAuthHandler(consumer_key,consumer_secret)\n",
    "auth.set_access_token(access_token,access_token_secret)"
   ]
  },
  {
   "cell_type": "code",
   "execution_count": 4,
   "metadata": {
    "collapsed": true
   },
   "outputs": [],
   "source": [
    "api=tweepy.API(auth)"
   ]
  },
  {
   "cell_type": "code",
   "execution_count": 5,
   "metadata": {
    "collapsed": true
   },
   "outputs": [],
   "source": [
    "\n",
    "twenty_train = fetch_20newsgroups(subset='train', shuffle=True,categories=['comp.graphics','comp.windows.x','sci.space','rec.sport.baseball','sci.electronics','talk.politics.misc','talk.religion.misc'])"
   ]
  },
  {
   "cell_type": "code",
   "execution_count": 6,
   "metadata": {},
   "outputs": [
    {
     "data": {
      "text/plain": [
       "['comp.graphics',\n",
       " 'comp.windows.x',\n",
       " 'rec.sport.baseball',\n",
       " 'sci.electronics',\n",
       " 'sci.space',\n",
       " 'talk.politics.misc',\n",
       " 'talk.religion.misc']"
      ]
     },
     "execution_count": 6,
     "metadata": {},
     "output_type": "execute_result"
    }
   ],
   "source": [
    "twenty_train.target_names"
   ]
  },
  {
   "cell_type": "code",
   "execution_count": null,
   "metadata": {
    "collapsed": true
   },
   "outputs": [],
   "source": [
    "'''print (twenty_train.data[0],\"\\n\\n\\n\\n\")\n",
    "print(type(twenty_train.data[0]))\n",
    "print(\":::::::::::::\")\n",
    "print(\"\\n\".join(twenty_train.data[0].split(\"\\n\")[:3]))'''"
   ]
  },
  {
   "cell_type": "code",
   "execution_count": 8,
   "metadata": {},
   "outputs": [
    {
     "data": {
      "text/plain": [
       "(3800, 50080)"
      ]
     },
     "execution_count": 8,
     "metadata": {},
     "output_type": "execute_result"
    }
   ],
   "source": [
    "# Extracting features from text files\n",
    "count_vect = CountVectorizer()\n",
    "X_train_counts = count_vect.fit_transform(twenty_train.data)\n",
    "X_train_counts.shape"
   ]
  },
  {
   "cell_type": "code",
   "execution_count": 9,
   "metadata": {},
   "outputs": [
    {
     "data": {
      "text/plain": [
       "(3800, 50080)"
      ]
     },
     "execution_count": 9,
     "metadata": {},
     "output_type": "execute_result"
    }
   ],
   "source": [
    "# TF-IDF\n",
    "from sklearn.feature_extraction.text import TfidfTransformer\n",
    "tfidf_transformer = TfidfTransformer()\n",
    "X_train_tfidf = tfidf_transformer.fit_transform(X_train_counts)\n",
    "X_train_tfidf.shape"
   ]
  },
  {
   "cell_type": "code",
   "execution_count": 10,
   "metadata": {
    "collapsed": true
   },
   "outputs": [],
   "source": [
    "# Machine Learning\n",
    "# Training Naive Bayes (NB) classifier on training data.\n",
    "from sklearn.naive_bayes import MultinomialNB\n",
    "clf = MultinomialNB().fit(X_train_tfidf, twenty_train.target)"
   ]
  },
  {
   "cell_type": "code",
   "execution_count": 11,
   "metadata": {},
   "outputs": [
    {
     "name": "stdout",
     "output_type": "stream",
     "text": [
      "- Effortless https://t.co/IKirNDIVeo -\n",
      "- And I am forever grateful https://t.co/kU1pT8t0yv -\n",
      "- RT @SpaceX: Standing down to update satellite software and triple-check everything again. Always want to do everything we can on the ground… -\n",
      "- @KetanKavaiya123 @engineers_feed √-1 2^3 3.14 😋 -\n",
      "- @engineers_feed Set of all math jokes that are actually funny is pretty small (sigh) -\n",
      "- @engineers_feed Physics demands the impedance of resistance, because it’s not real -\n",
      "- @engineers_feed What makes resistance complex is that it’s half imaginary! -\n",
      "- @vicentes @xprize @kitkitschool @onebillion Glad it worked out -\n",
      "- @xprize @kitkitschool @onebillion Congratulations @kitkitschool &amp; @onebillion on creating great open source literacy software! -\n",
      "- RT @xprize: And the winners are… @kitkitschool &amp; @onebillion! Help us congratulate them + all of our teams. Together we’ve made tremendous… -\n",
      "- RT @xprize: 1 in every 5 children are out of school. There’s a shortage of teachers at the primary &amp; secondary level. According to @UN, the… -\n",
      "- RT @SpaceX: Standing down today due to excess upper level winds. Teams are working toward tomorrow's backup launch window, which opens at 1… -\n",
      "- 6 more launches of 60 🛰 for initial activation, 12 for significant coverage -\n",
      "- Starlink mission will be heaviest @SpaceX payload ever at 18.5 tons. If all goes well, each launch of 60 satellites… https://t.co/pxltrlCc9N -\n",
      "- RT @SpaceX: The booster supporting this mission previously flew in support of the Telstar 18 VANTAGE and Iridium-8 missions https://t.co/Uz… -\n",
      "- RT @SpaceX: All systems and weather are go ahead of tonight’s launch of Starlink; webcast will go live about 15 minutes before liftoff → ht… -\n",
      "- @jeff_foust 🏴‍☠️ -\n",
      "- @Alejandro_DebH @bluemoondance74 @space_terp @NASASpaceflight That’s about right -\n",
      "- @Erdayastronaut @NASASpaceflight Probably start installing end of next month -\n",
      "- @bluemoondance74 @space_terp @NASASpaceflight SN4 is done. Hawthorne is working on SN5 now, but focus is ramping bu… https://t.co/dmLkRYEou0 -\n",
      "20\n",
      "RT @SpaceX: Standing down to update satellite software and triple-check everything again. Always want to do everything we can on the ground…\n"
     ]
    }
   ],
   "source": [
    "number_of_tweets=500\n",
    "tweets=api.user_timeline(screen_name='elonmusk')\n",
    "temp1=[]\n",
    "p=2\n",
    "tweets_for_csv=[tweet.text for tweet in tweets]\n",
    "for j in tweets_for_csv:\n",
    "    temp1.append(j)\n",
    "    print ('-',j,'-')\n",
    "print (len(temp1))\n",
    "print(temp1[p])\n"
   ]
  },
  {
   "cell_type": "code",
   "execution_count": 12,
   "metadata": {
    "collapsed": true
   },
   "outputs": [],
   "source": [
    "# Building a pipeline: We can write less code and do all of the above, by building a pipeline as follows:\n",
    "# The names ‘vect’ , ‘tfidf’ and ‘clf’ are arbitrary but will be used later.\n",
    "# We will be using the 'text_clf' going forward.\n",
    "from sklearn.pipeline import Pipeline\n",
    "\n",
    "text_clf = Pipeline([('vect', CountVectorizer()), ('tfidf', TfidfTransformer()), ('clf', MultinomialNB())])\n",
    "\n",
    "text_clf = text_clf.fit(twenty_train.data, twenty_train.target)"
   ]
  },
  {
   "cell_type": "code",
   "execution_count": 13,
   "metadata": {
    "collapsed": true
   },
   "outputs": [],
   "source": [
    "temp=[]\n",
    "for j in temp1:\n",
    "    new=j.split()\n",
    "    j=[]\n",
    "    for x in new:\n",
    "        if '@' not in x and 'http' not in x and 'www.' not in x:\n",
    "            j.append(x)\n",
    "\n",
    "\n",
    "    j=' '.join(j)\n",
    "    temp.append(j)\n",
    "tweets_for_csv=temp"
   ]
  },
  {
   "cell_type": "code",
   "execution_count": 14,
   "metadata": {},
   "outputs": [
    {
     "name": "stdout",
     "output_type": "stream",
     "text": [
      "<class 'numpy.ndarray'>\n"
     ]
    }
   ],
   "source": [
    "# Performance of NB Classifier\n",
    "\n",
    "twenty_test = fetch_20newsgroups(subset='test', shuffle=True)\n",
    "#print(twenty_train.target_names[text_clf.predict(\"Php sucks , python rules\")])\n",
    "predicted = text_clf.predict(tweets_for_csv)\n",
    "print(type(predicted))\n",
    "p=0\n",
    "dict={'comp.graphics':\"Technology\",'comp.windows.x':\"Technology\",'sci.space':'Science','rec.sport.baseball':'General','sci.electronics':'Science','talk.politics.misc':'Politics','talk.religion.misc':'Religion'}\n",
    "#for p in range(20):\n",
    " #   print(predicted[p],tweets_for_csv[p],'------->',dict[twenty_train.target_names[predicted[p]]],\"\\n------\\n\")\n",
    "    \n",
    "#np.mean(predicted == twenty_test.target)\n",
    "\n"
   ]
  },
  {
   "cell_type": "code",
   "execution_count": 15,
   "metadata": {
    "collapsed": true
   },
   "outputs": [],
   "source": [
    "def getSenti(polarity):\n",
    "    if polarity >0.1:\n",
    "        return \"Positive\"\n",
    "    elif polarity <-0.1 :\n",
    "        return \"Negative\"\n",
    "    else :\n",
    "        return \"Neutral\""
   ]
  },
  {
   "cell_type": "code",
   "execution_count": 16,
   "metadata": {},
   "outputs": [
    {
     "data": {
      "text/html": [
       "<div>\n",
       "<style>\n",
       "    .dataframe thead tr:only-child th {\n",
       "        text-align: right;\n",
       "    }\n",
       "\n",
       "    .dataframe thead th {\n",
       "        text-align: left;\n",
       "    }\n",
       "\n",
       "    .dataframe tbody tr th {\n",
       "        vertical-align: top;\n",
       "    }\n",
       "</style>\n",
       "<table border=\"1\" class=\"dataframe\">\n",
       "  <thead>\n",
       "    <tr style=\"text-align: right;\">\n",
       "      <th></th>\n",
       "      <th>tweets</th>\n",
       "      <th>Predicted</th>\n",
       "      <th>Sentiment</th>\n",
       "      <th>Polarity</th>\n",
       "    </tr>\n",
       "  </thead>\n",
       "  <tbody>\n",
       "    <tr>\n",
       "      <th>0</th>\n",
       "      <td>Effortless</td>\n",
       "      <td>General</td>\n",
       "      <td>Neutral</td>\n",
       "      <td>0.000000</td>\n",
       "    </tr>\n",
       "    <tr>\n",
       "      <th>1</th>\n",
       "      <td>And I am forever grateful</td>\n",
       "      <td>Science</td>\n",
       "      <td>Neutral</td>\n",
       "      <td>0.000000</td>\n",
       "    </tr>\n",
       "    <tr>\n",
       "      <th>2</th>\n",
       "      <td>RT Standing down to update satellite software ...</td>\n",
       "      <td>Science</td>\n",
       "      <td>Negative</td>\n",
       "      <td>-0.155556</td>\n",
       "    </tr>\n",
       "    <tr>\n",
       "      <th>3</th>\n",
       "      <td>√-1 2^3 3.14 😋</td>\n",
       "      <td>General</td>\n",
       "      <td>Neutral</td>\n",
       "      <td>0.000000</td>\n",
       "    </tr>\n",
       "    <tr>\n",
       "      <th>4</th>\n",
       "      <td>Set of all math jokes that are actually funny ...</td>\n",
       "      <td>Science</td>\n",
       "      <td>Neutral</td>\n",
       "      <td>0.083333</td>\n",
       "    </tr>\n",
       "    <tr>\n",
       "      <th>5</th>\n",
       "      <td>Physics demands the impedance of resistance, b...</td>\n",
       "      <td>Science</td>\n",
       "      <td>Neutral</td>\n",
       "      <td>-0.100000</td>\n",
       "    </tr>\n",
       "    <tr>\n",
       "      <th>6</th>\n",
       "      <td>What makes resistance complex is that it’s hal...</td>\n",
       "      <td>Science</td>\n",
       "      <td>Negative</td>\n",
       "      <td>-0.254167</td>\n",
       "    </tr>\n",
       "    <tr>\n",
       "      <th>7</th>\n",
       "      <td>Glad it worked out</td>\n",
       "      <td>Science</td>\n",
       "      <td>Positive</td>\n",
       "      <td>0.500000</td>\n",
       "    </tr>\n",
       "    <tr>\n",
       "      <th>8</th>\n",
       "      <td>Congratulations &amp;amp; on creating great open s...</td>\n",
       "      <td>Science</td>\n",
       "      <td>Positive</td>\n",
       "      <td>0.400000</td>\n",
       "    </tr>\n",
       "    <tr>\n",
       "      <th>9</th>\n",
       "      <td>RT And the winners are… &amp;amp; Help us congratu...</td>\n",
       "      <td>Science</td>\n",
       "      <td>Neutral</td>\n",
       "      <td>0.000000</td>\n",
       "    </tr>\n",
       "    <tr>\n",
       "      <th>10</th>\n",
       "      <td>RT 1 in every 5 children are out of school. Th...</td>\n",
       "      <td>Science</td>\n",
       "      <td>Neutral</td>\n",
       "      <td>0.050000</td>\n",
       "    </tr>\n",
       "    <tr>\n",
       "      <th>11</th>\n",
       "      <td>RT Standing down today due to excess upper lev...</td>\n",
       "      <td>Science</td>\n",
       "      <td>Neutral</td>\n",
       "      <td>-0.093519</td>\n",
       "    </tr>\n",
       "    <tr>\n",
       "      <th>12</th>\n",
       "      <td>6 more launches of 60 🛰 for initial activation...</td>\n",
       "      <td>Science</td>\n",
       "      <td>Positive</td>\n",
       "      <td>0.291667</td>\n",
       "    </tr>\n",
       "    <tr>\n",
       "      <th>13</th>\n",
       "      <td>Starlink mission will be heaviest payload ever...</td>\n",
       "      <td>Science</td>\n",
       "      <td>Neutral</td>\n",
       "      <td>0.000000</td>\n",
       "    </tr>\n",
       "    <tr>\n",
       "      <th>14</th>\n",
       "      <td>RT The booster supporting this mission previou...</td>\n",
       "      <td>Science</td>\n",
       "      <td>Neutral</td>\n",
       "      <td>0.041667</td>\n",
       "    </tr>\n",
       "    <tr>\n",
       "      <th>15</th>\n",
       "      <td>RT All systems and weather are go ahead of ton...</td>\n",
       "      <td>Science</td>\n",
       "      <td>Positive</td>\n",
       "      <td>0.136364</td>\n",
       "    </tr>\n",
       "    <tr>\n",
       "      <th>16</th>\n",
       "      <td>🏴‍☠️</td>\n",
       "      <td>General</td>\n",
       "      <td>Neutral</td>\n",
       "      <td>0.000000</td>\n",
       "    </tr>\n",
       "    <tr>\n",
       "      <th>17</th>\n",
       "      <td>That’s about right</td>\n",
       "      <td>Science</td>\n",
       "      <td>Positive</td>\n",
       "      <td>0.285714</td>\n",
       "    </tr>\n",
       "    <tr>\n",
       "      <th>18</th>\n",
       "      <td>Probably start installing end of next month</td>\n",
       "      <td>General</td>\n",
       "      <td>Neutral</td>\n",
       "      <td>0.000000</td>\n",
       "    </tr>\n",
       "    <tr>\n",
       "      <th>19</th>\n",
       "      <td>SN4 is done. Hawthorne is working on SN5 now, ...</td>\n",
       "      <td>Technology</td>\n",
       "      <td>Neutral</td>\n",
       "      <td>0.000000</td>\n",
       "    </tr>\n",
       "  </tbody>\n",
       "</table>\n",
       "</div>"
      ],
      "text/plain": [
       "                                               tweets   Predicted Sentiment  \\\n",
       "0                                          Effortless     General   Neutral   \n",
       "1                           And I am forever grateful     Science   Neutral   \n",
       "2   RT Standing down to update satellite software ...     Science  Negative   \n",
       "3                                      √-1 2^3 3.14 😋     General   Neutral   \n",
       "4   Set of all math jokes that are actually funny ...     Science   Neutral   \n",
       "5   Physics demands the impedance of resistance, b...     Science   Neutral   \n",
       "6   What makes resistance complex is that it’s hal...     Science  Negative   \n",
       "7                                  Glad it worked out     Science  Positive   \n",
       "8   Congratulations &amp; on creating great open s...     Science  Positive   \n",
       "9   RT And the winners are… &amp; Help us congratu...     Science   Neutral   \n",
       "10  RT 1 in every 5 children are out of school. Th...     Science   Neutral   \n",
       "11  RT Standing down today due to excess upper lev...     Science   Neutral   \n",
       "12  6 more launches of 60 🛰 for initial activation...     Science  Positive   \n",
       "13  Starlink mission will be heaviest payload ever...     Science   Neutral   \n",
       "14  RT The booster supporting this mission previou...     Science   Neutral   \n",
       "15  RT All systems and weather are go ahead of ton...     Science  Positive   \n",
       "16                                               🏴‍☠️     General   Neutral   \n",
       "17                                 That’s about right     Science  Positive   \n",
       "18        Probably start installing end of next month     General   Neutral   \n",
       "19  SN4 is done. Hawthorne is working on SN5 now, ...  Technology   Neutral   \n",
       "\n",
       "    Polarity   \n",
       "0    0.000000  \n",
       "1    0.000000  \n",
       "2   -0.155556  \n",
       "3    0.000000  \n",
       "4    0.083333  \n",
       "5   -0.100000  \n",
       "6   -0.254167  \n",
       "7    0.500000  \n",
       "8    0.400000  \n",
       "9    0.000000  \n",
       "10   0.050000  \n",
       "11  -0.093519  \n",
       "12   0.291667  \n",
       "13   0.000000  \n",
       "14   0.041667  \n",
       "15   0.136364  \n",
       "16   0.000000  \n",
       "17   0.285714  \n",
       "18   0.000000  \n",
       "19   0.000000  "
      ]
     },
     "execution_count": 16,
     "metadata": {},
     "output_type": "execute_result"
    }
   ],
   "source": [
    "\n",
    "df = pd.DataFrame(tweets_for_csv, columns=['tweets'])\n",
    "\n",
    "df['Predicted'] = np.array([dict[twenty_train.target_names[predicted[p]]] for p in range (len(tweets_for_csv))])\n",
    "\n",
    "df['Sentiment']=np.array([getSenti(TextBlob(j).sentiment.polarity) for j in tweets_for_csv])\n",
    "df['Polarity ']=np.array([(TextBlob(j).sentiment.polarity) for j in tweets_for_csv])\n",
    "df\n"
   ]
  },
  {
   "cell_type": "code",
   "execution_count": null,
   "metadata": {
    "collapsed": true
   },
   "outputs": [],
   "source": []
  },
  {
   "cell_type": "code",
   "execution_count": null,
   "metadata": {
    "collapsed": true
   },
   "outputs": [],
   "source": []
  },
  {
   "cell_type": "code",
   "execution_count": null,
   "metadata": {
    "collapsed": true
   },
   "outputs": [],
   "source": []
  },
  {
   "cell_type": "code",
   "execution_count": null,
   "metadata": {
    "collapsed": true
   },
   "outputs": [],
   "source": []
  }
 ],
 "metadata": {
  "kernelspec": {
   "display_name": "Python 3",
   "language": "python",
   "name": "python3"
  },
  "language_info": {
   "codemirror_mode": {
    "name": "ipython",
    "version": 3
   },
   "file_extension": ".py",
   "mimetype": "text/x-python",
   "name": "python",
   "nbconvert_exporter": "python",
   "pygments_lexer": "ipython3",
   "version": "3.6.2"
  }
 },
 "nbformat": 4,
 "nbformat_minor": 2
}
