{
 "cells": [
  {
   "cell_type": "code",
   "execution_count": 1,
   "metadata": {
    "collapsed": true
   },
   "outputs": [],
   "source": [
    "import tweepy\n",
    "from textblob import TextBlob\n",
    "import pandas as pd\n",
    "import numpy as np\n",
    "from sklearn.feature_extraction.text import CountVectorizer\n",
    "from sklearn.datasets import fetch_20newsgroups"
   ]
  },
  {
   "cell_type": "code",
   "execution_count": 2,
   "metadata": {
    "collapsed": true
   },
   "outputs": [],
   "source": [
    "consumer_key = 'Sri1ChSCMuYs16x48Z7YbgDJX'\n",
    "consumer_secret = 'f4gCuO4VqhtFITDUVvgKW7HDribREgpGBUl4JgRWsaH3XjSfuP'\n",
    "access_token = '1128352344595283968-7gmltStBsYtpHV19Cgs3dftZLf9w1s'\n",
    "access_token_secret = 'zZNO9vkT1h6yrOKQ9Ur2oZwk9y8T2sQrPhDKsqDyz3zuM'"
   ]
  },
  {
   "cell_type": "code",
   "execution_count": 3,
   "metadata": {
    "collapsed": true
   },
   "outputs": [],
   "source": [
    "auth=tweepy.OAuthHandler(consumer_key,consumer_secret)\n",
    "auth.set_access_token(access_token,access_token_secret)"
   ]
  },
  {
   "cell_type": "code",
   "execution_count": 4,
   "metadata": {
    "collapsed": true
   },
   "outputs": [],
   "source": [
    "api=tweepy.API(auth)"
   ]
  },
  {
   "cell_type": "code",
   "execution_count": 5,
   "metadata": {
    "collapsed": true
   },
   "outputs": [],
   "source": [
    "\n",
    "twenty_train = fetch_20newsgroups(subset='train', shuffle=True,categories=['comp.graphics','comp.windows.x','sci.space','rec.sport.baseball','sci.electronics','talk.politics.misc','talk.religion.misc'])"
   ]
  },
  {
   "cell_type": "code",
   "execution_count": 6,
   "metadata": {},
   "outputs": [
    {
     "data": {
      "text/plain": [
       "['comp.graphics',\n",
       " 'comp.windows.x',\n",
       " 'rec.sport.baseball',\n",
       " 'sci.electronics',\n",
       " 'sci.space',\n",
       " 'talk.politics.misc',\n",
       " 'talk.religion.misc']"
      ]
     },
     "execution_count": 6,
     "metadata": {},
     "output_type": "execute_result"
    }
   ],
   "source": [
    "twenty_train.target_names"
   ]
  },
  {
   "cell_type": "code",
   "execution_count": 7,
   "metadata": {},
   "outputs": [
    {
     "data": {
      "text/plain": [
       "'print (twenty_train.data[0],\"\\n\\n\\n\\n\")\\nprint(type(twenty_train.data[0]))\\nprint(\":::::::::::::\")\\nprint(\"\\n\".join(twenty_train.data[0].split(\"\\n\")[:3]))'"
      ]
     },
     "execution_count": 7,
     "metadata": {},
     "output_type": "execute_result"
    }
   ],
   "source": [
    "'''print (twenty_train.data[0],\"\\n\\n\\n\\n\")\n",
    "print(type(twenty_train.data[0]))\n",
    "print(\":::::::::::::\")\n",
    "print(\"\\n\".join(twenty_train.data[0].split(\"\\n\")[:3]))'''"
   ]
  },
  {
   "cell_type": "code",
   "execution_count": 8,
   "metadata": {},
   "outputs": [
    {
     "data": {
      "text/plain": [
       "(3800, 50080)"
      ]
     },
     "execution_count": 8,
     "metadata": {},
     "output_type": "execute_result"
    }
   ],
   "source": [
    "# Extracting features from text files\n",
    "count_vect = CountVectorizer()\n",
    "X_train_counts = count_vect.fit_transform(twenty_train.data)\n",
    "X_train_counts.shape"
   ]
  },
  {
   "cell_type": "code",
   "execution_count": 9,
   "metadata": {},
   "outputs": [
    {
     "data": {
      "text/plain": [
       "(3800, 50080)"
      ]
     },
     "execution_count": 9,
     "metadata": {},
     "output_type": "execute_result"
    }
   ],
   "source": [
    "# TF-IDF\n",
    "from sklearn.feature_extraction.text import TfidfTransformer\n",
    "tfidf_transformer = TfidfTransformer()\n",
    "X_train_tfidf = tfidf_transformer.fit_transform(X_train_counts)\n",
    "X_train_tfidf.shape"
   ]
  },
  {
   "cell_type": "code",
   "execution_count": 10,
   "metadata": {
    "collapsed": true
   },
   "outputs": [],
   "source": [
    "# Machine Learning\n",
    "# Training Naive Bayes (NB) classifier on training data.\n",
    "from sklearn.naive_bayes import MultinomialNB\n",
    "clf = MultinomialNB().fit(X_train_tfidf, twenty_train.target)"
   ]
  },
  {
   "cell_type": "code",
   "execution_count": 11,
   "metadata": {},
   "outputs": [
    {
     "name": "stdout",
     "output_type": "stream",
     "text": [
      "- Britney Spears is in more control of her life and health than some of her supporters seem to believe, two sources c… https://t.co/ULNC3Dle2w -\n",
      "- President Trump has announced plans to replace existing green cards with a new \"Build America Visa\" https://t.co/1YGg2hEEJ3 -\n",
      "- About 30 million light-years from Earth, two galaxies came together in an epic collision. The beautiful fallout was… https://t.co/GcZDFqFDnz -\n",
      "- An audience member at one of comedian Ahmed Ahmed's recent shows called 911 to complain about one of his jokes https://t.co/uk7julZjJs -\n",
      "- The new Alabama abortion law is putting Justice Brett Kavanaugh and Sen. Susan Collins back in the spotlight https://t.co/dm9R68Ai4h -\n",
      "- A high school teacher in Massachusetts was arrested on Thursday after he admitted to leaving a bullet in the school… https://t.co/I65S5olbh5 -\n",
      "- Alabama's new abortion law has women \"in fear for our lives,\" a rape survivor says https://t.co/1kZgpdAAfz https://t.co/Zcw2SBYsAi -\n",
      "- More than 300,000 people want the final season of 'Game of Thrones' to be remade https://t.co/eqQ63j2Xtc https://t.co/BhtFQqUJZj -\n",
      "- \"The Big Bang Theory\" finale showed off the program's big heart, celebrating the friendship — quirky as it was — th… https://t.co/jCcIzq6Loy -\n",
      "- The near-total ban on abortions signed into law in Alabama is the most restrictive abortion legislation in the coun… https://t.co/vauJfSe7OT -\n",
      "- An employee in the Bureau of Alcohol, Tobacco, Firearms and Explosives headquarters building opened a package that… https://t.co/olZw08j5Pl -\n",
      "- It's happened again: A Tesla driver turned on the car's Autopilot feature and took his hands off the wheel before a… https://t.co/H8fOzDKGsh -\n",
      "- JUST IN: Lawmakers in Taiwan have approved a bill legalizing same-sex marriage, making it the first place in Asia t… https://t.co/eLw0MK2WF3 -\n",
      "- Donations have started pouring in for an Alabama abortions-rights group after the state signed into law the nation'… https://t.co/Yw4auhgdT3 -\n",
      "- A woman's $1 Mother's Day gift turned out to be a lot more than she bargained for https://t.co/2lzMZMEd1C -\n",
      "- Trump's big deals appeal only to his supporters | Analysis by @stcollinson https://t.co/JPHvlE2XCS https://t.co/HN0AyCKWfY -\n",
      "- Joe Biden is set to shift into a new -- and riskier -- phase of his campaign for the 2020 Democratic presidential n… https://t.co/mTHn0XWU6j -\n",
      "- \"Just as I have for the last 15 years of my medical career, I will continue to deliver babies, give prenatal care —… https://t.co/084DHVuWfz -\n",
      "- In Washington, bipartisan consensus has swung hard against China, with some US opposition lawmakers even calling on… https://t.co/AIfJ6acWeZ -\n",
      "- Former WWE star Ashley Massaro has died at the age of 39 https://t.co/zgoNp6EImD -\n",
      "20\n",
      "About 30 million light-years from Earth, two galaxies came together in an epic collision. The beautiful fallout was… https://t.co/GcZDFqFDnz\n"
     ]
    }
   ],
   "source": [
    "number_of_tweets=500\n",
    "tweets=api.user_timeline(screen_name='CNN')\n",
    "temp1=[]\n",
    "p=2\n",
    "tweets_for_csv=[tweet.text for tweet in tweets]\n",
    "for j in tweets_for_csv:\n",
    "    temp1.append(j)\n",
    "    print ('-',j,'-')\n",
    "print (len(temp1))\n",
    "print(temp1[p])\n"
   ]
  },
  {
   "cell_type": "code",
   "execution_count": 12,
   "metadata": {
    "collapsed": true
   },
   "outputs": [],
   "source": [
    "# Building a pipeline: We can write less code and do all of the above, by building a pipeline as follows:\n",
    "# The names ‘vect’ , ‘tfidf’ and ‘clf’ are arbitrary but will be used later.\n",
    "# We will be using the 'text_clf' going forward.\n",
    "from sklearn.pipeline import Pipeline\n",
    "\n",
    "text_clf = Pipeline([('vect', CountVectorizer()), ('tfidf', TfidfTransformer()), ('clf', MultinomialNB())])\n",
    "\n",
    "text_clf = text_clf.fit(twenty_train.data, twenty_train.target)"
   ]
  },
  {
   "cell_type": "code",
   "execution_count": 13,
   "metadata": {
    "collapsed": true
   },
   "outputs": [],
   "source": [
    "temp=[]\n",
    "for j in temp1:\n",
    "    new=j.split()\n",
    "    j=[]\n",
    "    for x in new:\n",
    "        if '@' not in x and 'http' not in x and 'www.' not in x:\n",
    "            j.append(x)\n",
    "\n",
    "\n",
    "    j=' '.join(j)\n",
    "    temp.append(j)\n",
    "tweets_for_csv=temp"
   ]
  },
  {
   "cell_type": "code",
   "execution_count": 14,
   "metadata": {},
   "outputs": [
    {
     "name": "stdout",
     "output_type": "stream",
     "text": [
      "<class 'numpy.ndarray'>\n"
     ]
    }
   ],
   "source": [
    "# Performance of NB Classifier\n",
    "\n",
    "twenty_test = fetch_20newsgroups(subset='test', shuffle=True)\n",
    "#print(twenty_train.target_names[text_clf.predict(\"Php sucks , python rules\")])\n",
    "predicted = text_clf.predict(tweets_for_csv)\n",
    "print(type(predicted))\n",
    "p=0\n",
    "dict={'comp.graphics':\"Technology\",'comp.windows.x':\"Technology\",'sci.space':'Science','rec.sport.baseball':'General','sci.electronics':'Science','talk.politics.misc':'Politics','talk.religion.misc':'Religion'}\n",
    "#for p in range(20):\n",
    " #   print(predicted[p],tweets_for_csv[p],'------->',dict[twenty_train.target_names[predicted[p]]],\"\\n------\\n\")\n",
    "    \n",
    "#np.mean(predicted == twenty_test.target)\n",
    "\n"
   ]
  },
  {
   "cell_type": "code",
   "execution_count": 15,
   "metadata": {
    "collapsed": true
   },
   "outputs": [],
   "source": [
    "def getSenti(polarity):\n",
    "    if polarity >0.1:\n",
    "        return \"Positive\"\n",
    "    elif polarity <-0.1 :\n",
    "        return \"Negative\"\n",
    "    else :\n",
    "        return \"Neutral\""
   ]
  },
  {
   "cell_type": "code",
   "execution_count": 16,
   "metadata": {},
   "outputs": [
    {
     "data": {
      "text/html": [
       "<div>\n",
       "<style>\n",
       "    .dataframe thead tr:only-child th {\n",
       "        text-align: right;\n",
       "    }\n",
       "\n",
       "    .dataframe thead th {\n",
       "        text-align: left;\n",
       "    }\n",
       "\n",
       "    .dataframe tbody tr th {\n",
       "        vertical-align: top;\n",
       "    }\n",
       "</style>\n",
       "<table border=\"1\" class=\"dataframe\">\n",
       "  <thead>\n",
       "    <tr style=\"text-align: right;\">\n",
       "      <th></th>\n",
       "      <th>tweets</th>\n",
       "      <th>Predicted</th>\n",
       "      <th>Sentiment</th>\n",
       "      <th>Polarity</th>\n",
       "    </tr>\n",
       "  </thead>\n",
       "  <tbody>\n",
       "    <tr>\n",
       "      <th>0</th>\n",
       "      <td>Britney Spears is in more control of her life ...</td>\n",
       "      <td>Politics</td>\n",
       "      <td>Positive</td>\n",
       "      <td>0.500000</td>\n",
       "    </tr>\n",
       "    <tr>\n",
       "      <th>1</th>\n",
       "      <td>President Trump has announced plans to replace...</td>\n",
       "      <td>Science</td>\n",
       "      <td>Neutral</td>\n",
       "      <td>-0.031818</td>\n",
       "    </tr>\n",
       "    <tr>\n",
       "      <th>2</th>\n",
       "      <td>About 30 million light-years from Earth, two g...</td>\n",
       "      <td>Science</td>\n",
       "      <td>Positive</td>\n",
       "      <td>0.475000</td>\n",
       "    </tr>\n",
       "    <tr>\n",
       "      <th>3</th>\n",
       "      <td>An audience member at one of comedian Ahmed Ah...</td>\n",
       "      <td>Science</td>\n",
       "      <td>Neutral</td>\n",
       "      <td>0.000000</td>\n",
       "    </tr>\n",
       "    <tr>\n",
       "      <th>4</th>\n",
       "      <td>The new Alabama abortion law is putting Justic...</td>\n",
       "      <td>Politics</td>\n",
       "      <td>Neutral</td>\n",
       "      <td>0.068182</td>\n",
       "    </tr>\n",
       "    <tr>\n",
       "      <th>5</th>\n",
       "      <td>A high school teacher in Massachusetts was arr...</td>\n",
       "      <td>General</td>\n",
       "      <td>Positive</td>\n",
       "      <td>0.160000</td>\n",
       "    </tr>\n",
       "    <tr>\n",
       "      <th>6</th>\n",
       "      <td>Alabama's new abortion law has women \"in fear ...</td>\n",
       "      <td>Politics</td>\n",
       "      <td>Positive</td>\n",
       "      <td>0.136364</td>\n",
       "    </tr>\n",
       "    <tr>\n",
       "      <th>7</th>\n",
       "      <td>More than 300,000 people want the final season...</td>\n",
       "      <td>General</td>\n",
       "      <td>Neutral</td>\n",
       "      <td>0.033333</td>\n",
       "    </tr>\n",
       "    <tr>\n",
       "      <th>8</th>\n",
       "      <td>\"The Big Bang Theory\" finale showed off the pr...</td>\n",
       "      <td>Science</td>\n",
       "      <td>Neutral</td>\n",
       "      <td>0.000000</td>\n",
       "    </tr>\n",
       "    <tr>\n",
       "      <th>9</th>\n",
       "      <td>The near-total ban on abortions signed into la...</td>\n",
       "      <td>Politics</td>\n",
       "      <td>Positive</td>\n",
       "      <td>0.500000</td>\n",
       "    </tr>\n",
       "    <tr>\n",
       "      <th>10</th>\n",
       "      <td>An employee in the Bureau of Alcohol, Tobacco,...</td>\n",
       "      <td>Politics</td>\n",
       "      <td>Neutral</td>\n",
       "      <td>0.000000</td>\n",
       "    </tr>\n",
       "    <tr>\n",
       "      <th>11</th>\n",
       "      <td>It's happened again: A Tesla driver turned on ...</td>\n",
       "      <td>General</td>\n",
       "      <td>Neutral</td>\n",
       "      <td>0.000000</td>\n",
       "    </tr>\n",
       "    <tr>\n",
       "      <th>12</th>\n",
       "      <td>JUST IN: Lawmakers in Taiwan have approved a b...</td>\n",
       "      <td>Politics</td>\n",
       "      <td>Positive</td>\n",
       "      <td>0.250000</td>\n",
       "    </tr>\n",
       "    <tr>\n",
       "      <th>13</th>\n",
       "      <td>Donations have started pouring in for an Alaba...</td>\n",
       "      <td>Politics</td>\n",
       "      <td>Neutral</td>\n",
       "      <td>0.000000</td>\n",
       "    </tr>\n",
       "    <tr>\n",
       "      <th>14</th>\n",
       "      <td>A woman's $1 Mother's Day gift turned out to b...</td>\n",
       "      <td>Politics</td>\n",
       "      <td>Positive</td>\n",
       "      <td>0.500000</td>\n",
       "    </tr>\n",
       "    <tr>\n",
       "      <th>15</th>\n",
       "      <td>Trump's big deals appeal only to his supporter...</td>\n",
       "      <td>General</td>\n",
       "      <td>Neutral</td>\n",
       "      <td>0.000000</td>\n",
       "    </tr>\n",
       "    <tr>\n",
       "      <th>16</th>\n",
       "      <td>Joe Biden is set to shift into a new -- and ri...</td>\n",
       "      <td>Science</td>\n",
       "      <td>Positive</td>\n",
       "      <td>0.136364</td>\n",
       "    </tr>\n",
       "    <tr>\n",
       "      <th>17</th>\n",
       "      <td>\"Just as I have for the last 15 years of my me...</td>\n",
       "      <td>General</td>\n",
       "      <td>Neutral</td>\n",
       "      <td>0.000000</td>\n",
       "    </tr>\n",
       "    <tr>\n",
       "      <th>18</th>\n",
       "      <td>In Washington, bipartisan consensus has swung ...</td>\n",
       "      <td>Politics</td>\n",
       "      <td>Negative</td>\n",
       "      <td>-0.291667</td>\n",
       "    </tr>\n",
       "    <tr>\n",
       "      <th>19</th>\n",
       "      <td>Former WWE star Ashley Massaro has died at the...</td>\n",
       "      <td>Science</td>\n",
       "      <td>Neutral</td>\n",
       "      <td>0.000000</td>\n",
       "    </tr>\n",
       "  </tbody>\n",
       "</table>\n",
       "</div>"
      ],
      "text/plain": [
       "                                               tweets Predicted Sentiment  \\\n",
       "0   Britney Spears is in more control of her life ...  Politics  Positive   \n",
       "1   President Trump has announced plans to replace...   Science   Neutral   \n",
       "2   About 30 million light-years from Earth, two g...   Science  Positive   \n",
       "3   An audience member at one of comedian Ahmed Ah...   Science   Neutral   \n",
       "4   The new Alabama abortion law is putting Justic...  Politics   Neutral   \n",
       "5   A high school teacher in Massachusetts was arr...   General  Positive   \n",
       "6   Alabama's new abortion law has women \"in fear ...  Politics  Positive   \n",
       "7   More than 300,000 people want the final season...   General   Neutral   \n",
       "8   \"The Big Bang Theory\" finale showed off the pr...   Science   Neutral   \n",
       "9   The near-total ban on abortions signed into la...  Politics  Positive   \n",
       "10  An employee in the Bureau of Alcohol, Tobacco,...  Politics   Neutral   \n",
       "11  It's happened again: A Tesla driver turned on ...   General   Neutral   \n",
       "12  JUST IN: Lawmakers in Taiwan have approved a b...  Politics  Positive   \n",
       "13  Donations have started pouring in for an Alaba...  Politics   Neutral   \n",
       "14  A woman's $1 Mother's Day gift turned out to b...  Politics  Positive   \n",
       "15  Trump's big deals appeal only to his supporter...   General   Neutral   \n",
       "16  Joe Biden is set to shift into a new -- and ri...   Science  Positive   \n",
       "17  \"Just as I have for the last 15 years of my me...   General   Neutral   \n",
       "18  In Washington, bipartisan consensus has swung ...  Politics  Negative   \n",
       "19  Former WWE star Ashley Massaro has died at the...   Science   Neutral   \n",
       "\n",
       "    Polarity   \n",
       "0    0.500000  \n",
       "1   -0.031818  \n",
       "2    0.475000  \n",
       "3    0.000000  \n",
       "4    0.068182  \n",
       "5    0.160000  \n",
       "6    0.136364  \n",
       "7    0.033333  \n",
       "8    0.000000  \n",
       "9    0.500000  \n",
       "10   0.000000  \n",
       "11   0.000000  \n",
       "12   0.250000  \n",
       "13   0.000000  \n",
       "14   0.500000  \n",
       "15   0.000000  \n",
       "16   0.136364  \n",
       "17   0.000000  \n",
       "18  -0.291667  \n",
       "19   0.000000  "
      ]
     },
     "execution_count": 16,
     "metadata": {},
     "output_type": "execute_result"
    }
   ],
   "source": [
    "\n",
    "df = pd.DataFrame(tweets_for_csv, columns=['tweets'])\n",
    "\n",
    "df['Predicted'] = np.array([dict[twenty_train.target_names[predicted[p]]] for p in range (len(tweets_for_csv))])\n",
    "\n",
    "df['Sentiment']=np.array([getSenti(TextBlob(j).sentiment.polarity) for j in tweets_for_csv])\n",
    "df['Polarity ']=np.array([(TextBlob(j).sentiment.polarity) for j in tweets_for_csv])\n",
    "df\n"
   ]
  },
  {
   "cell_type": "code",
   "execution_count": null,
   "metadata": {
    "collapsed": true
   },
   "outputs": [],
   "source": []
  },
  {
   "cell_type": "code",
   "execution_count": null,
   "metadata": {
    "collapsed": true
   },
   "outputs": [],
   "source": []
  },
  {
   "cell_type": "code",
   "execution_count": null,
   "metadata": {
    "collapsed": true
   },
   "outputs": [],
   "source": []
  },
  {
   "cell_type": "code",
   "execution_count": null,
   "metadata": {
    "collapsed": true
   },
   "outputs": [],
   "source": []
  }
 ],
 "metadata": {
  "kernelspec": {
   "display_name": "Python 3",
   "language": "python",
   "name": "python3"
  },
  "language_info": {
   "codemirror_mode": {
    "name": "ipython",
    "version": 3
   },
   "file_extension": ".py",
   "mimetype": "text/x-python",
   "name": "python",
   "nbconvert_exporter": "python",
   "pygments_lexer": "ipython3",
   "version": "3.6.2"
  }
 },
 "nbformat": 4,
 "nbformat_minor": 2
}
